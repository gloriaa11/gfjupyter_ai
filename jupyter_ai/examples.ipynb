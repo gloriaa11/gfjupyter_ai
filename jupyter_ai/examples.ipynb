{
  "cells": [
    {
      "cell_type": "raw",
      "metadata": {
        "vscode": {
          "languageId": "raw"
        }
      },
      "source": [
        "# Jupyter AI Custom 示例\n",
        "\n",
        "这个notebook展示了Jupyter AI Custom的主要功能和使用方法。\n",
        "\n",
        "## 环境要求\n",
        "\n",
        "确保已安装所有依赖：\n",
        "```bash\n",
        "pip install -r requirements.txt\n",
        "```\n",
        "\n",
        "## 配置说明\n",
        "\n",
        "在运行前，请设置以下环境变量：\n",
        "\n",
        "```bash\n",
        "# 语言模型配置\n",
        "set JUPYTER_AI_MODEL_ID=gpt-4o\n",
        "set JUPYTER_AI_API_BASE=http://your-api-server/llmapi/v1/chat/completions\n",
        "set JUPYTER_AI_API_KEY=your-api-key\n",
        "\n",
        "# 嵌入模型配置\n",
        "set JUPYTER_AI_EMBEDDING_MODEL_ID=Qwen3-Embedding-8B\n",
        "set JUPYTER_AI_EMBEDDING_API_BASE=http://your-api-server/llmapi/v1/embeddings\n",
        "set JUPYTER_AI_EMBEDDING_API_KEY=your-api-key\n",
        "\n",
        "# 编码设置\n",
        "set PYTHONIOENCODING=utf-8\n",
        "set PYTHONUTF8=1\n",
        "```\n"
      ]
    },
    {
      "cell_type": "raw",
      "metadata": {
        "vscode": {
          "languageId": "raw"
        }
      },
      "source": [
        "## 1. 基础AI对话功能\n",
        "\n",
        "Jupyter AI Custom提供智能的代码生成和解释功能。\n"
      ]
    },
    {
      "cell_type": "code",
      "execution_count": null,
      "metadata": {},
      "outputs": [],
      "source": [
        "# 示例：请求AI生成一个简单的数据分析代码\n",
        "# 在JupyterLab中，你可以通过侧边栏的AI助手图标与AI对话\n",
        "# 或者使用以下方式直接调用AI功能\n",
        "\n",
        "import pandas as pd\n",
        "import numpy as np\n",
        "import matplotlib.pyplot as plt\n",
        "\n",
        "print(\"Jupyter AI Custom 环境已准备就绪！\")\n",
        "print(\"请在JupyterLab侧边栏找到AI助手图标开始对话\")\n"
      ]
    },
    {
      "cell_type": "raw",
      "metadata": {
        "vscode": {
          "languageId": "raw"
        }
      },
      "source": [
        "## 2. RAG知识检索功能\n",
        "\n",
        "系统会自动检索公司内部文档和API信息，提供更准确的代码建议。\n"
      ]
    },
    {
      "cell_type": "code",
      "execution_count": null,
      "metadata": {},
      "outputs": [],
      "source": [
        "# 示例：量化投资相关代码\n",
        "# AI会自动检索相关的API文档和最佳实践\n",
        "\n",
        "# 创建示例数据\n",
        "dates = pd.date_range('2024-01-01', periods=100, freq='D')\n",
        "prices = np.random.randn(100).cumsum() + 100\n",
        "df = pd.DataFrame({'date': dates, 'price': prices})\n",
        "\n",
        "print(\"示例数据已创建\")\n",
        "print(df.head())\n"
      ]
    }
  ],
  "metadata": {
    "language_info": {
      "name": "python"
    }
  },
  "nbformat": 4,
  "nbformat_minor": 2
}
